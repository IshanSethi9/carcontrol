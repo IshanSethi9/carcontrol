{
 "cells": [
  {
   "cell_type": "code",
   "execution_count": 1,
   "metadata": {},
   "outputs": [],
   "source": [
    "#Libraries\n",
    "import cv2\n",
    "import numpy as np\n",
    "import pyautogui\n",
    "import keyboard"
   ]
  },
  {
   "cell_type": "code",
   "execution_count": 2,
   "metadata": {},
   "outputs": [],
   "source": [
    "#Color to detect BGR\n",
    "l = [17, 15, 100] #lower\n",
    "u = [80, 76, 220] #upper"
   ]
  },
  {
   "cell_type": "code",
   "execution_count": 3,
   "metadata": {},
   "outputs": [],
   "source": [
    "#region coordinates \n",
    "k_left, k_top, k_right, k_bottom = 640, 30, 440, 130\n",
    "h_left, h_top, h_right, h_bottom = 440, 130, 240, 330\n",
    "s_left, s_top, s_right, s_bottom = 840, 130, 640, 330\n",
    "f_left, f_top, f_right, f_bottom = 640, 330, 440, 430"
   ]
  },
  {
   "cell_type": "code",
   "execution_count": 4,
   "metadata": {},
   "outputs": [],
   "source": [
    "#Key Pressed\n",
    "current_key_pressed = set()"
   ]
  },
  {
   "cell_type": "code",
   "execution_count": 5,
   "metadata": {},
   "outputs": [],
   "source": [
    "#Accelerate\n",
    "def up():\n",
    "    #print(\"W\")\n",
    "    pyautogui.keyDown('up')\n",
    "    current_key_pressed.add('w')"
   ]
  },
  {
   "cell_type": "code",
   "execution_count": 6,
   "metadata": {},
   "outputs": [],
   "source": [
    "#Steering Right\n",
    "def right():\n",
    "    #print(\"D\")\n",
    "    pyautogui.keyDown('right')\n",
    "    current_key_pressed.add('d')"
   ]
  },
  {
   "cell_type": "code",
   "execution_count": 7,
   "metadata": {},
   "outputs": [],
   "source": [
    "#Steering Left\n",
    "def left():\n",
    "    #print(\"A\")\n",
    "    pyautogui.keyDown('left')\n",
    "    current_key_pressed.add('a')"
   ]
  },
  {
   "cell_type": "code",
   "execution_count": 8,
   "metadata": {},
   "outputs": [],
   "source": [
    "#Brakes\n",
    "def down():\n",
    "    #print(\"S\")\n",
    "    pyautogui.keyDown('down')\n",
    "    current_key_pressed.add('s')"
   ]
  },
  {
   "cell_type": "code",
   "execution_count": 9,
   "metadata": {},
   "outputs": [],
   "source": [
    "#Find contours\n",
    "def findContours(image):\n",
    "    img = cv2.cvtColor(image,cv2.COLOR_BGR2GRAY)\n",
    "    threshold = cv2.threshold(img, 15, 255, cv2.THRESH_BINARY)[1]\n",
    "    (_, cnts, _) = cv2.findContours(threshold.copy(),cv2.RETR_EXTERNAL,cv2.CHAIN_APPROX_SIMPLE)\n",
    "    return len(cnts)"
   ]
  },
  {
   "cell_type": "code",
   "execution_count": 10,
   "metadata": {},
   "outputs": [],
   "source": [
    "#Main function\n",
    "if __name__=='__main__':\n",
    "    aWeight=0.5\n",
    "\n",
    "    cam=cv2.VideoCapture(0)\n",
    "\n",
    "    cam.set(3,1280)\n",
    "    cam.set(4,720)\n",
    "    cam.set(cv2.CAP_PROP_FPS,60)\n",
    "\n",
    "    while True:\n",
    "        buttonPressed = False\n",
    "        buttonPressed_leftright = False\n",
    "        \n",
    "        status, frame = cam.read()\n",
    "\n",
    "        clone = frame.copy()\n",
    "        clone = cv2.flip(clone,1)\n",
    "        clone = cv2.resize(clone,(1280,720))\n",
    "\n",
    "        reg_up = clone[k_top:k_bottom, k_right:k_left]\n",
    "        reg_left = clone[h_top:h_bottom, h_right:h_left]\n",
    "        reg_right = clone[s_top:s_bottom, s_right:s_left]\n",
    "        reg_down = clone[f_top:f_bottom, f_right:f_left]\n",
    "\n",
    "        reg_up = cv2.GaussianBlur(reg_up, (7,7), 0)\n",
    "        reg_right = cv2.GaussianBlur(reg_right, (7,7), 0)\n",
    "        reg_left = cv2.GaussianBlur(reg_left, (7,7), 0)\n",
    "        reg_down = cv2.GaussianBlur(reg_down, (7,7), 0)\n",
    "        \n",
    "        hsv = cv2.cvtColor(frame, cv2.COLOR_BGR2HSV)\n",
    "        \n",
    "        mask = cv2.inRange(hsv, l, u)\n",
    "        mask = cv2.erode(mask, None, iterations=2)\n",
    "        mask = cv2.dilate(mask, None, iterations=2)\n",
    "\n",
    "        l = np.array(lower, dtype=\"uint8\")\n",
    "        u = np.array(upper, dtype=\"uint8\")\n",
    "\n",
    "        mask_up = cv2.inRange(reg_up, l, u)\n",
    "        mask_right = cv2.inRange(reg_right, l, u)\n",
    "        mask_left = cv2.inRange(reg_left, l, u)\n",
    "        mask_down = cv2.inRange(reg_down, l, u)\n",
    "\n",
    "        out_up = cv2.bitwise_and(reg_up, reg_up, mask=mask_up)\n",
    "        out_right = cv2.bitwise_and(reg_right, reg_right, mask=mask_right)\n",
    "        out_left = cv2.bitwise_and(reg_left, reg_left, mask=mask_left)\n",
    "        out_down = cv2.bitwise_and(reg_down, reg_down, mask=mask_down)\n",
    "\n",
    "        cnts_up = findContours(out_up)\n",
    "        cnts_right = findContours(out_right)\n",
    "        cnts_left = findContours(out_left)\n",
    "        cnts_down = findContours(out_down)\n",
    "\n",
    "        if (cnts_up > 0):\n",
    "            up()\n",
    "            buttonPressed = True\n",
    "      \n",
    "        elif (cnts_right > 0):\n",
    "            right()\n",
    "            buttonPressed = True\n",
    "            buttonPressed_leftright = True\n",
    "\n",
    "        elif (cnts_left > 0):\n",
    "            left()\n",
    "            buttonPressed = True\n",
    "            buttonPressed_leftright = True\n",
    "        \n",
    "        elif (cnts_down > 0):\n",
    "            down()\n",
    "            buttonPressed = True\n",
    "\n",
    "        image_up = cv2.rectangle(clone, (k_left, k_top), (k_right, k_bottom), (255,0,255,0.5), 2)\n",
    "        image_left = cv2.rectangle(clone, (h_left, h_top), (h_right, h_bottom), (255,0,0,0.5), 2)\n",
    "        image_right = cv2.rectangle(clone, (s_left, s_top), (s_right, s_bottom), (0,0,255,0.5), 2)\n",
    "        image_down = cv2.rectangle(clone, (f_left, f_top), (f_right, f_bottom), (0,255,255,0.5), 2)\n",
    "      \n",
    "        cv2.putText(image_up, \"W\", (k_left-170,k_top+110), cv2.FONT_HERSHEY_SIMPLEX, 0.9, (36,255,12), 2)\n",
    "        cv2.putText(image_left, \"A\", (h_left-170,h_top+200), cv2.FONT_HERSHEY_SIMPLEX, 0.9, (36,255,12), 2)\n",
    "        cv2.putText(image_right, \"D\", (s_left-170,s_top+200), cv2.FONT_HERSHEY_SIMPLEX, 0.9, (36,255,12), 2)\n",
    "        cv2.putText(image_down, \"S\", (f_left-170,f_top+110), cv2.FONT_HERSHEY_SIMPLEX, 0.9, (36,255,12), 2)\n",
    "\n",
    "        cv2.namedWindow(\"video\",cv2.WINDOW_AUTOSIZE)\n",
    "        cv2.imshow(\"video\", clone)\n",
    "\n",
    "        if not buttonPressed and len(current_key_pressed) != 0:\n",
    "            for key in current_key_pressed:\n",
    "                pyautogui.keyUp(key)\n",
    "            current_key_pressed = set()\n",
    "            \n",
    "        if not buttonPressed_leftright and (('a' in current_key_pressed) or ('d' in current_key_pressed)): \n",
    "            if 'a' in current_key_pressed:\n",
    "                pyautogui.keyUp('left')\n",
    "                current_key_pressed.remove('a')  \n",
    "            elif 'd' in current_key_pressed:\n",
    "                pyautogui.keyUp('right')\n",
    "                current_key_pressed.remove('d')\n",
    "\n",
    "        if cv2.waitKey(1) & 0Xff == ord('q'):\n",
    "            break\n",
    "\n",
    "    cam.release()\n",
    "    cv2.destroyAllWindows()"
   ]
  }
 ],
 "metadata": {
  "kernelspec": {
   "display_name": "TensorFlow-GPU-1.13",
   "language": "python",
   "name": "tf-gpu"
  },
  "language_info": {
   "codemirror_mode": {
    "name": "ipython",
    "version": 3
   },
   "file_extension": ".py",
   "mimetype": "text/x-python",
   "name": "python",
   "nbconvert_exporter": "python",
   "pygments_lexer": "ipython3",
   "version": "3.7.7"
  }
 },
 "nbformat": 4,
 "nbformat_minor": 4
}
